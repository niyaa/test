{
 "cells": [
  {
   "cell_type": "code",
   "execution_count": 2,
   "metadata": {
    "collapsed": false
   },
   "outputs": [
    {
     "name": "stdout",
     "output_type": "stream",
     "text": [
      "hello\n"
     ]
    }
   ],
   "source": [
    "print 'hello'"
   ]
  },
  {
   "cell_type": "code",
   "execution_count": 6,
   "metadata": {
    "collapsed": true
   },
   "outputs": [],
   "source": [
    "import mesh as m;\n",
    "\n"
   ]
  },
  {
   "cell_type": "code",
   "execution_count": 9,
   "metadata": {
    "collapsed": false
   },
   "outputs": [],
   "source": [
    "import aa;"
   ]
  },
  {
   "cell_type": "code",
   "execution_count": 15,
   "metadata": {
    "collapsed": true
   },
   "outputs": [],
   "source": [
    "[a,b,c,d,e,f]=m.meshRead('CyInCH.msh')\n"
   ]
  },
  {
   "cell_type": "code",
   "execution_count": 16,
   "metadata": {
    "collapsed": false
   },
   "outputs": [
    {
     "name": "stdout",
     "output_type": "stream",
     "text": [
      "[[3 0 3]\n",
      " [0 0 0]\n",
      " [3 0 0]\n",
      " ..., \n",
      " [0 0 0]\n",
      " [3 0 0]\n",
      " [0 0 0]]\n"
     ]
    }
   ],
   "source": [
    "import numpy as np\n",
    "print f"
   ]
  },
  {
   "cell_type": "raw",
   "metadata": {},
   "source": [
    "[l,m]=np.where(f==5)"
   ]
  },
  {
   "cell_type": "code",
   "execution_count": 17,
   "metadata": {
    "collapsed": false
   },
   "outputs": [
    {
     "name": "stdout",
     "output_type": "stream",
     "text": [
      "<module 'mesh' from 'mesh.pyc'>\n"
     ]
    }
   ],
   "source": [
    "print m"
   ]
  },
  {
   "cell_type": "code",
   "execution_count": null,
   "metadata": {
    "collapsed": true
   },
   "outputs": [],
   "source": [
    "\n",
    "    import numpy as np;\n",
    "    \n",
    "\n",
    "    elm_type = {}\n",
    "    elm_type[1] = 2    # 2-node line\n",
    "    elm_type[2] = 3    # 3-node triangle\n",
    "    elm_type[3] = 4    # 4-node quadrangle\n",
    "    elm_type[4] = 4    # 4-node tetrahedron\n",
    "    elm_type[5] = 8    # 8-node hexahedron\n",
    "    elm_type[6] = 6    # 6-node prism\n",
    "    elm_type[7] = 5    # 5-node pyramid\n",
    "    elm_type[8] = 3    # 3-node second order line\n",
    "                            # (2 nodes at vertices and 1 with edge)\n",
    "    elm_type[9] = 6    # 6-node second order triangle\n",
    "                            # (3 nodes at vertices and 3 with edges)\n",
    "    elm_type[10] = 9    # 9-node second order quadrangle\n",
    "                            # (4 nodes at vertices,\n",
    "                            #  4 with edges and 1 with face)\n",
    "    elm_type[11] = 10   # 10-node second order tetrahedron\n",
    "                            # (4 nodes at vertices and 6 with edges)\n",
    "    elm_type[12] = 27   # 27-node second order hexahedron\n",
    "                            # (8 nodes at vertices, 12 with edges,\n",
    "                            #  6 with faces and 1 with volume)\n",
    "    elm_type[13] = 18   # 18-node second order prism\n",
    "                            # (6 nodes at vertices,\n",
    "                            #  9 with edges and 3 with quadrangular faces)\n",
    "    elm_type[14] = 14   # 14-node second order pyramid\n",
    "                            # (5 nodes at vertices,\n",
    "                            #  8 with edges and 1 with quadrangular face)\n",
    "    elm_type[15] = 1    # 1-node point\n",
    "    elm_type[16] = 8    # 8-node second order quadrangle\n",
    "                            # (4 nodes at vertices and 4 with edges)\n",
    "    elm_type[17] = 20   # 20-node second order hexahedron\n",
    "                            # (8 nodes at vertices and 12 with edges)\n",
    "    elm_type[18] = 15   # 15-node second order prism\n",
    "                            # (6 nodes at vertices and 9 with edges)\n",
    "    elm_type[19] = 13   # 13-node second order pyramid\n",
    "                            # (5 nodes at vertices and 8 with edges)\n",
    "    elm_type[20] = 9    # 9-node third order incomplete triangle\n",
    "                            # (3 nodes at vertices, 6 with edges)\n",
    "    elm_type[21] = 10   # 10-node third order triangle\n",
    "                            # (3 nodes at vertices, 6 with edges, 1 with face)\n",
    "    elm_type[22] = 12   # 12-node fourth order incomplete triangle\n",
    "                            # (3 nodes at vertices, 9 with edges)\n",
    "    elm_type[23] = 15   # 15-node fourth order triangle\n",
    "                            # (3 nodes at vertices, 9 with edges, 3 with face)\n",
    "    elm_type[24] = 15   # 15-node fifth order incomplete triangle\n",
    "                            # (3 nodes at vertices, 12 with edges)\n",
    "    elm_type[25] = 21   # 21-node fifth order complete triangle\n",
    "                            # (3 nodes at vertices, 12 with edges, 6 with face)\n",
    "    elm_type[26] = 4    # 4-node third order edge\n",
    "                            # (2 nodes at vertices, 2 internal to edge)\n",
    "    elm_type[27] = 5    # 5-node fourth order edge\n",
    "                            # (2 nodes at vertices, 3 internal to edge)\n",
    "    elm_type[28] = 6    # 6-node fifth order edge\n",
    "                            # (2 nodes at vertices, 4 internal to edge)\n",
    "    elm_type[29] = 20   # 20-node third order tetrahedron\n",
    "                            # (4 nodes at vertices, 12 with edges,\n",
    "                            #  4 with faces)\n",
    "    elm_type[30] = 35   # 35-node fourth order tetrahedron\n",
    "                            # (4 nodes at vertices, 18 with edges,\n",
    "                            #  12 with faces, 1 in volume)\n",
    "    elm_type[31] = 56   # 56-node fifth order tetrahedron\n",
    "                            # (4 nodes at vertices, 24 with edges,\n",
    "                            #  24 with faces, 4 in volume)\n",
    "    Verts = [];Elmts = {};Phys = {};npts = 0;nElmts = {};nprops = 0\n",
    "\n",
    "\n",
    "       # try:\n",
    "    fid = open(mshfile, \"r\")\n",
    "    #except IOError:\n",
    "           # print \"File '%s' not found.\" % (filename)\n",
    "        #sys.exit()\n",
    "\n",
    "    #line = 'start'\n",
    "    #while line:\n",
    "    line = fid.readline()\n",
    "\n",
    "    if line.find('$MeshFormat') == 0:\n",
    "        line = fid.readline()\n",
    "    if line.split()[0][0] is not '2':\n",
    "        print ('wrong gmsh version')\n",
    "        sys.exit()\n",
    "    line = fid.readline()\n",
    "    if line.find('$EndMeshFormat') != 0:\n",
    "        raise ValueError('expecting EndMeshFormat')\n",
    "    line=fid.readline();\n",
    "    if line.find('$PhysicalNames') == 0:\n",
    "        line = fid.readline()\n",
    "        nprops = int(line.split()[0])\n",
    "        bctag=np.zeros((nprops),dtype=np.int);\n",
    "        for i in range(0,  nprops):\n",
    "            line = fid.readline()\n",
    "            newkey = int(line.split()[1])\n",
    "            bctag[i]= int(line.split()[1]);\n",
    "            qstart = line.find('\"')+1\n",
    "            qend = line.find('\"', -1, 0)-1\n",
    "            Phys[newkey] = line[qstart:qend]\n",
    "        line = fid.readline()\n",
    "    if line.find('$EndPhysicalNames') != 0:\n",
    "        raise ValueError('expecting EndPhysicalNames')\n",
    "    line=fid.readline();\n",
    "    if line.find('$Nodes') == 0:\n",
    "        line = fid.readline()\n",
    "        npts = int(line.split()[0])\n",
    "        Verts =np.zeros(( npts, 3), dtype=float)\n",
    "        for i in range(0,  npts):\n",
    "            line = fid.readline()\n",
    "            data = line.split()\n",
    "            idx = int(data[0])-1  # fix gmsh 1-based indexing\n",
    "            if i != idx:\n",
    "                raise ValueError('problem with vertex ids')\n",
    "            Verts[idx, :] = map(float, data[1:])\n",
    "        line = fid.readline()\n",
    "        if line.find('$EndNodes') != 0:\n",
    "            raise ValueError('expecting EndNodes')\n",
    "        line=fid.readline();\n",
    "    if line.find('$Elements') == 0:\n",
    "        line = fid.readline()\n",
    "        nel = int(line.split()[0])\n",
    "        bcidx=np.zeros((nel,),dtype=int);\n",
    "        for i in range(0,  nel):\n",
    "            line = fid.readline()\n",
    "            data = line.split()\n",
    "            idx = int(data[0])-1  # fix gmsh 1-based indexing\n",
    "            if i != idx:\n",
    "                raise ValueError('problem with elements ids')\n",
    "            etype = int(data[1])           # element type\n",
    "            nnodes =  elm_type[etype]   # lookup number of nodes\n",
    "            ntags = int(data[2])           # number of tags following\n",
    "            bcidx[i]=int(data[3]);                    \n",
    "            k = 3\n",
    "            if ntags > 0:                   # set physical id\n",
    "                physid = int(data[k])\n",
    "                if physid not in  Phys: #   Phys[physid] = 'Physical Entity %d' % physid\n",
    "                    nprops += 1\n",
    "                k += ntags\n",
    "\n",
    "            verts = map(int, data[k:])\n",
    "            verts = np.array(verts)-1  # fixe gmsh 1-based index\n",
    "\n",
    "            if (etype not in  Elmts) or\\\n",
    "                    (len( Elmts[etype]) == 0):\n",
    "                # initialize\n",
    "                 Elmts[etype] = (physid, verts)\n",
    "                 nElmts[etype] = 1\n",
    "            else:\n",
    "                # append\n",
    "                 Elmts[etype] = \\\n",
    "                    (np.hstack(( Elmts[etype][0], physid)),\n",
    "                     np.vstack(( Elmts[etype][1], verts)))\n",
    "                 nElmts[etype] += 1\n",
    "\n",
    "        line = fid.readline()\n",
    "        if line.find('$EndElements') != 0:\n",
    "            raise ValueError('expecting EndElements')\n",
    "    fid.close();\n",
    "    bcstr=['In','Out','Wall','Far','Cyl','Dirichlet','Neuman','Slip'];\n",
    "    #bi=np.zeros((8,),dtype=np.int);\n",
    "    VX=Verts[:,0];VY=Verts[:,1];t1=nElmts;K=t1[2];\n",
    "\n",
    "       # EToV=np.zeros((K,3),dtype=np.int);\n",
    "    EToV=Elmts[2][1];TwoSidT=Elmts[1][1];Nv=npts;\n",
    "    BCType=np.zeros((K,3),dtype=np.int);\n",
    "    t3=np.zeros((8,),dtype=np.int);\n",
    "\n",
    "    sk=1;\n",
    "    for i in range(0,8):\n",
    "        if (sk in Phys):\n",
    "            if (bcstr[i]==Phys[sk]):   t3[i]=bctag[sk-1]; sk+=1;\n",
    "    for k in range (0,len(t3)):\n",
    "        if (t3[k]>0):\n",
    "            for i in range(0,len(TwoSidT)):\n",
    "                for j in range (0,2):\n",
    "                    [t1,t2]=np.where(EToV==TwoSidT[i][j]);\n",
    "                    if (bcidx[i]==t3[k]): BCType[t1,t2]=k+1;"
   ]
  }
 ],
 "metadata": {
  "kernelspec": {
   "display_name": "Python 2",
   "language": "python",
   "name": "python2"
  },
  "language_info": {
   "codemirror_mode": {
    "name": "ipython",
    "version": 2
   },
   "file_extension": ".py",
   "mimetype": "text/x-python",
   "name": "python",
   "nbconvert_exporter": "python",
   "pygments_lexer": "ipython2",
   "version": "2.7.11"
  }
 },
 "nbformat": 4,
 "nbformat_minor": 0
}
